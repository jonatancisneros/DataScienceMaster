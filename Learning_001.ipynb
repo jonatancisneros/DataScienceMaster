{
  "nbformat": 4,
  "nbformat_minor": 0,
  "metadata": {
    "colab": {
      "name": "Challenge.ipynb",
      "version": "0.3.2",
      "provenance": [],
      "include_colab_link": true
    },
    "kernelspec": {
      "name": "python3",
      "display_name": "Python 3"
    }
  },
  "cells": [
    {
      "cell_type": "markdown",
      "metadata": {
        "id": "view-in-github",
        "colab_type": "text"
      },
      "source": [
        "<a href=\"https://colab.research.google.com/github/jonatancisneros/DataScienceMaster/blob/master/Learning_001.ipynb\" target=\"_parent\"><img src=\"https://colab.research.google.com/assets/colab-badge.svg\" alt=\"Open In Colab\"/></a>"
      ]
    },
    {
      "cell_type": "code",
      "metadata": {
        "id": "ZCOk9nhc_YvB",
        "colab_type": "code",
        "outputId": "056533a0-f0f3-431a-e334-464403a8550c",
        "colab": {
          "base_uri": "https://localhost:8080/",
          "height": 122
        }
      },
      "source": [
        "from google.colab import drive \n",
        "drive.mount('/content/gdrive')"
      ],
      "execution_count": 0,
      "outputs": [
        {
          "output_type": "stream",
          "text": [
            "Go to this URL in a browser: https://accounts.google.com/o/oauth2/auth?client_id=947318989803-6bn6qk8qdgf4n4g3pfee6491hc0brc4i.apps.googleusercontent.com&redirect_uri=urn%3Aietf%3Awg%3Aoauth%3A2.0%3Aoob&scope=email%20https%3A%2F%2Fwww.googleapis.com%2Fauth%2Fdocs.test%20https%3A%2F%2Fwww.googleapis.com%2Fauth%2Fdrive%20https%3A%2F%2Fwww.googleapis.com%2Fauth%2Fdrive.photos.readonly%20https%3A%2F%2Fwww.googleapis.com%2Fauth%2Fpeopleapi.readonly&response_type=code\n",
            "\n",
            "Enter your authorization code:\n",
            "··········\n",
            "Mounted at /content/gdrive\n"
          ],
          "name": "stdout"
        }
      ]
    },
    {
      "cell_type": "code",
      "metadata": {
        "id": "PaKw2gKXBVwm",
        "colab_type": "code",
        "colab": {}
      },
      "source": [
        "!ls ./gdrive/My\\ Drive/Kschool"
      ],
      "execution_count": 0,
      "outputs": []
    },
    {
      "cell_type": "code",
      "metadata": {
        "id": "q3WK3zIT9y5I",
        "colab_type": "code",
        "outputId": "02b07146-3be1-4b44-c167-d1bb0dd3b195",
        "colab": {
          "base_uri": "https://localhost:8080/",
          "height": 204
        }
      },
      "source": [
        "\n",
        "import pandas as pd\n",
        "s =pd.read_csv('./gdrive/My Drive/Kschool/searches_no_dup.csv',sep='^',usecols=['Date','Origin','Destination'])\n",
        "b =pd.read_csv('./gdrive/My Drive/Kschool/bookings_no_dup.csv',sep='^',usecols=['cre_date           ','dep_port','arr_port'])\n",
        "\n",
        "b.columns=b.columns.str.strip()\n",
        "\n",
        "\n",
        "list(b.loc[0])\n",
        "\n",
        "b['arr_port']=b[\"arr_port\"].str.strip()\n",
        "\n",
        "\n",
        "b['dep_port']=b[\"dep_port\"].str.strip()\n",
        "\n",
        "list(b.loc[0])\n",
        "\n",
        "b.cre_date[0][:10]\n",
        "\n",
        "b.cre_date=b.cre_date[0][:10]\n",
        "\n",
        "list(b.loc[0])\n",
        "\n",
        "list(s.loc[0])\n",
        "\n",
        "s.sample()\n",
        "\n",
        "b.sample()\n",
        "\n",
        "len(s), len(s.dropna())\n",
        "\n",
        "len(b), len(b.dropna())\n",
        "\n",
        "b=b.dropna()\n",
        "\n",
        "s=s.dropna()\n",
        "\n",
        "s[s.isnull().any(axis=1)]\n",
        "s[s.isnull().any(axis=1)]\n",
        "\n",
        "b.head()"
      ],
      "execution_count": 0,
      "outputs": [
        {
          "output_type": "execute_result",
          "data": {
            "text/html": [
              "<div>\n",
              "<style scoped>\n",
              "    .dataframe tbody tr th:only-of-type {\n",
              "        vertical-align: middle;\n",
              "    }\n",
              "\n",
              "    .dataframe tbody tr th {\n",
              "        vertical-align: top;\n",
              "    }\n",
              "\n",
              "    .dataframe thead th {\n",
              "        text-align: right;\n",
              "    }\n",
              "</style>\n",
              "<table border=\"1\" class=\"dataframe\">\n",
              "  <thead>\n",
              "    <tr style=\"text-align: right;\">\n",
              "      <th></th>\n",
              "      <th>cre_date</th>\n",
              "      <th>dep_port</th>\n",
              "      <th>arr_port</th>\n",
              "    </tr>\n",
              "  </thead>\n",
              "  <tbody>\n",
              "    <tr>\n",
              "      <th>0</th>\n",
              "      <td>2013-02-22</td>\n",
              "      <td>ZRH</td>\n",
              "      <td>LHR</td>\n",
              "    </tr>\n",
              "    <tr>\n",
              "      <th>1</th>\n",
              "      <td>2013-02-22</td>\n",
              "      <td>SAL</td>\n",
              "      <td>CLT</td>\n",
              "    </tr>\n",
              "    <tr>\n",
              "      <th>2</th>\n",
              "      <td>2013-02-22</td>\n",
              "      <td>SAL</td>\n",
              "      <td>CLT</td>\n",
              "    </tr>\n",
              "    <tr>\n",
              "      <th>3</th>\n",
              "      <td>2013-02-22</td>\n",
              "      <td>AKL</td>\n",
              "      <td>SVO</td>\n",
              "    </tr>\n",
              "    <tr>\n",
              "      <th>4</th>\n",
              "      <td>2013-02-22</td>\n",
              "      <td>AKL</td>\n",
              "      <td>SVO</td>\n",
              "    </tr>\n",
              "  </tbody>\n",
              "</table>\n",
              "</div>"
            ],
            "text/plain": [
              "     cre_date dep_port arr_port\n",
              "0  2013-02-22      ZRH      LHR\n",
              "1  2013-02-22      SAL      CLT\n",
              "2  2013-02-22      SAL      CLT\n",
              "3  2013-02-22      AKL      SVO\n",
              "4  2013-02-22      AKL      SVO"
            ]
          },
          "metadata": {
            "tags": []
          },
          "execution_count": 21
        }
      ]
    }
  ]
}